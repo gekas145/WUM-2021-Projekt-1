{
 "cells": [
  {
   "cell_type": "markdown",
   "metadata": {},
   "source": [
    "# Kamień milowy 3(finalne modele)"
   ]
  },
  {
   "cell_type": "code",
   "execution_count": 20,
   "metadata": {},
   "outputs": [],
   "source": [
    "import pandas as pd\n",
    "import numpy as np\n",
    "import matplotlib.pyplot as plt\n",
    "\n",
    "from sklearn.model_selection import train_test_split\n",
    "from sklearn.linear_model import LogisticRegression\n",
    "from sklearn.metrics import roc_auc_score"
   ]
  },
  {
   "cell_type": "code",
   "execution_count": 9,
   "metadata": {},
   "outputs": [],
   "source": [
    "congressional_voting_df = pd.read_csv(\"congressional_voting_dataset.csv\")"
   ]
  },
  {
   "cell_type": "code",
   "execution_count": 10,
   "metadata": {},
   "outputs": [
    {
     "data": {
      "text/html": [
       "<div>\n",
       "<style scoped>\n",
       "    .dataframe tbody tr th:only-of-type {\n",
       "        vertical-align: middle;\n",
       "    }\n",
       "\n",
       "    .dataframe tbody tr th {\n",
       "        vertical-align: top;\n",
       "    }\n",
       "\n",
       "    .dataframe thead th {\n",
       "        text-align: right;\n",
       "    }\n",
       "</style>\n",
       "<table border=\"1\" class=\"dataframe\">\n",
       "  <thead>\n",
       "    <tr style=\"text-align: right;\">\n",
       "      <th></th>\n",
       "      <th>handicapped_infants</th>\n",
       "      <th>water_project_cost_sharing</th>\n",
       "      <th>adoption_of_the_budget_resolution</th>\n",
       "      <th>physician_fee_freeze</th>\n",
       "      <th>el_salvador_aid</th>\n",
       "      <th>religious_groups_in_schools</th>\n",
       "      <th>anti_satellite_test_ban</th>\n",
       "      <th>aid_to_nicaraguan_contras</th>\n",
       "      <th>mx_missile</th>\n",
       "      <th>immigration</th>\n",
       "      <th>synfuels_corporation_cutback</th>\n",
       "      <th>education_spending</th>\n",
       "      <th>superfund_right_to_sue</th>\n",
       "      <th>crime</th>\n",
       "      <th>duty_free_exports</th>\n",
       "      <th>export_administration_act_south_africa</th>\n",
       "      <th>political_party</th>\n",
       "    </tr>\n",
       "  </thead>\n",
       "  <tbody>\n",
       "    <tr>\n",
       "      <th>0</th>\n",
       "      <td>-1</td>\n",
       "      <td>1</td>\n",
       "      <td>-1</td>\n",
       "      <td>1</td>\n",
       "      <td>1</td>\n",
       "      <td>1</td>\n",
       "      <td>-1</td>\n",
       "      <td>-1</td>\n",
       "      <td>-1</td>\n",
       "      <td>1</td>\n",
       "      <td>0</td>\n",
       "      <td>1</td>\n",
       "      <td>1</td>\n",
       "      <td>1</td>\n",
       "      <td>-1</td>\n",
       "      <td>1</td>\n",
       "      <td>0</td>\n",
       "    </tr>\n",
       "    <tr>\n",
       "      <th>1</th>\n",
       "      <td>-1</td>\n",
       "      <td>1</td>\n",
       "      <td>-1</td>\n",
       "      <td>1</td>\n",
       "      <td>1</td>\n",
       "      <td>1</td>\n",
       "      <td>-1</td>\n",
       "      <td>-1</td>\n",
       "      <td>-1</td>\n",
       "      <td>-1</td>\n",
       "      <td>-1</td>\n",
       "      <td>1</td>\n",
       "      <td>1</td>\n",
       "      <td>1</td>\n",
       "      <td>-1</td>\n",
       "      <td>0</td>\n",
       "      <td>0</td>\n",
       "    </tr>\n",
       "    <tr>\n",
       "      <th>2</th>\n",
       "      <td>0</td>\n",
       "      <td>1</td>\n",
       "      <td>1</td>\n",
       "      <td>0</td>\n",
       "      <td>1</td>\n",
       "      <td>1</td>\n",
       "      <td>-1</td>\n",
       "      <td>-1</td>\n",
       "      <td>-1</td>\n",
       "      <td>-1</td>\n",
       "      <td>1</td>\n",
       "      <td>-1</td>\n",
       "      <td>1</td>\n",
       "      <td>1</td>\n",
       "      <td>-1</td>\n",
       "      <td>-1</td>\n",
       "      <td>1</td>\n",
       "    </tr>\n",
       "    <tr>\n",
       "      <th>3</th>\n",
       "      <td>-1</td>\n",
       "      <td>1</td>\n",
       "      <td>1</td>\n",
       "      <td>-1</td>\n",
       "      <td>0</td>\n",
       "      <td>1</td>\n",
       "      <td>-1</td>\n",
       "      <td>-1</td>\n",
       "      <td>-1</td>\n",
       "      <td>-1</td>\n",
       "      <td>1</td>\n",
       "      <td>-1</td>\n",
       "      <td>1</td>\n",
       "      <td>-1</td>\n",
       "      <td>-1</td>\n",
       "      <td>1</td>\n",
       "      <td>1</td>\n",
       "    </tr>\n",
       "    <tr>\n",
       "      <th>4</th>\n",
       "      <td>1</td>\n",
       "      <td>1</td>\n",
       "      <td>1</td>\n",
       "      <td>-1</td>\n",
       "      <td>1</td>\n",
       "      <td>1</td>\n",
       "      <td>-1</td>\n",
       "      <td>-1</td>\n",
       "      <td>-1</td>\n",
       "      <td>-1</td>\n",
       "      <td>1</td>\n",
       "      <td>0</td>\n",
       "      <td>1</td>\n",
       "      <td>1</td>\n",
       "      <td>1</td>\n",
       "      <td>1</td>\n",
       "      <td>1</td>\n",
       "    </tr>\n",
       "  </tbody>\n",
       "</table>\n",
       "</div>"
      ],
      "text/plain": [
       "   handicapped_infants  water_project_cost_sharing  \\\n",
       "0                   -1                           1   \n",
       "1                   -1                           1   \n",
       "2                    0                           1   \n",
       "3                   -1                           1   \n",
       "4                    1                           1   \n",
       "\n",
       "   adoption_of_the_budget_resolution  physician_fee_freeze  el_salvador_aid  \\\n",
       "0                                 -1                     1                1   \n",
       "1                                 -1                     1                1   \n",
       "2                                  1                     0                1   \n",
       "3                                  1                    -1                0   \n",
       "4                                  1                    -1                1   \n",
       "\n",
       "   religious_groups_in_schools  anti_satellite_test_ban  \\\n",
       "0                            1                       -1   \n",
       "1                            1                       -1   \n",
       "2                            1                       -1   \n",
       "3                            1                       -1   \n",
       "4                            1                       -1   \n",
       "\n",
       "   aid_to_nicaraguan_contras  mx_missile  immigration  \\\n",
       "0                         -1          -1            1   \n",
       "1                         -1          -1           -1   \n",
       "2                         -1          -1           -1   \n",
       "3                         -1          -1           -1   \n",
       "4                         -1          -1           -1   \n",
       "\n",
       "   synfuels_corporation_cutback  education_spending  superfund_right_to_sue  \\\n",
       "0                             0                   1                       1   \n",
       "1                            -1                   1                       1   \n",
       "2                             1                  -1                       1   \n",
       "3                             1                  -1                       1   \n",
       "4                             1                   0                       1   \n",
       "\n",
       "   crime  duty_free_exports  export_administration_act_south_africa  \\\n",
       "0      1                 -1                                       1   \n",
       "1      1                 -1                                       0   \n",
       "2      1                 -1                                      -1   \n",
       "3     -1                 -1                                       1   \n",
       "4      1                  1                                       1   \n",
       "\n",
       "   political_party  \n",
       "0                0  \n",
       "1                0  \n",
       "2                1  \n",
       "3                1  \n",
       "4                1  "
      ]
     },
     "execution_count": 10,
     "metadata": {},
     "output_type": "execute_result"
    }
   ],
   "source": [
    "# zmieniamy kodowanie zmiennych\n",
    "# teraz taktujemy \"?\" wsztrzymania się od głosu, a nie brak danych\n",
    "map = {\"y\": 1, \"n\" : -1, \"?\": 0, \"democrat\" : 1, \"republican\" : 0}\n",
    "\n",
    "columns = congressional_voting_df.columns.to_list()\n",
    "for column in columns:\n",
    "    congressional_voting_df[column] = congressional_voting_df[column].map(map)\n",
    "\n",
    "congressional_voting_df.head(5)"
   ]
  },
  {
   "cell_type": "markdown",
   "metadata": {},
   "source": [
    "## Train-test split"
   ]
  },
  {
   "cell_type": "code",
   "execution_count": 12,
   "metadata": {},
   "outputs": [],
   "source": [
    "# z kamienia 2 pamiętamy, że target jest zrównoważony\n",
    "X_train, X_test, y_train, y_test = train_test_split(congressional_voting_df.drop(\"political_party\", axis=1), \n",
    "                                                    congressional_voting_df[\"political_party\"], \n",
    "                                                    test_size=0.3, shuffle=True, random_state=42)"
   ]
  },
  {
   "cell_type": "markdown",
   "metadata": {},
   "source": [
    "## Modeling"
   ]
  },
  {
   "cell_type": "code",
   "execution_count": 28,
   "metadata": {},
   "outputs": [],
   "source": [
    "def modeling(X_train, y_train, baseline=False):\n",
    "    if baseline:\n",
    "        lr = LogisticRegression(random_state=0)\n",
    "        lr.fit(X_train, y_train)\n",
    "        return pd.DataFrame({\"accuracy\": [lr.score(X_test, y_test)], \n",
    "                             \"auc\": [roc_auc_score(y_test, lr.predict_proba(X_test)[:, 1])]})\n",
    "    else:\n",
    "        pass"
   ]
  },
  {
   "cell_type": "code",
   "execution_count": 24,
   "metadata": {},
   "outputs": [
    {
     "data": {
      "text/plain": [
       "0.9961636828644501"
      ]
     },
     "execution_count": 24,
     "metadata": {},
     "output_type": "execute_result"
    }
   ],
   "source": [
    "lr = LogisticRegression(random_state=0)\n",
    "lr.fit(X_train, y_train)\n",
    "roc_auc_score(y_test, lr.predict_proba(X_test)[:, 1])"
   ]
  },
  {
   "cell_type": "markdown",
   "metadata": {},
   "source": [
    "### Baseline"
   ]
  },
  {
   "cell_type": "code",
   "execution_count": 29,
   "metadata": {},
   "outputs": [
    {
     "data": {
      "text/html": [
       "<div>\n",
       "<style scoped>\n",
       "    .dataframe tbody tr th:only-of-type {\n",
       "        vertical-align: middle;\n",
       "    }\n",
       "\n",
       "    .dataframe tbody tr th {\n",
       "        vertical-align: top;\n",
       "    }\n",
       "\n",
       "    .dataframe thead th {\n",
       "        text-align: right;\n",
       "    }\n",
       "</style>\n",
       "<table border=\"1\" class=\"dataframe\">\n",
       "  <thead>\n",
       "    <tr style=\"text-align: right;\">\n",
       "      <th></th>\n",
       "      <th>accuracy</th>\n",
       "      <th>auc</th>\n",
       "    </tr>\n",
       "  </thead>\n",
       "  <tbody>\n",
       "    <tr>\n",
       "      <th>0</th>\n",
       "      <td>0.984733</td>\n",
       "      <td>0.996164</td>\n",
       "    </tr>\n",
       "  </tbody>\n",
       "</table>\n",
       "</div>"
      ],
      "text/plain": [
       "   accuracy       auc\n",
       "0  0.984733  0.996164"
      ]
     },
     "execution_count": 29,
     "metadata": {},
     "output_type": "execute_result"
    }
   ],
   "source": [
    "modeling(X_train, y_train, baseline=True)"
   ]
  }
 ],
 "metadata": {
  "kernelspec": {
   "display_name": "Python 3",
   "language": "python",
   "name": "python3"
  },
  "language_info": {
   "codemirror_mode": {
    "name": "ipython",
    "version": 3
   },
   "file_extension": ".py",
   "mimetype": "text/x-python",
   "name": "python",
   "nbconvert_exporter": "python",
   "pygments_lexer": "ipython3",
   "version": "3.8.3"
  }
 },
 "nbformat": 4,
 "nbformat_minor": 4
}
