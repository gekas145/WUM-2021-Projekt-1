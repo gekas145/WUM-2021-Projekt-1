{
 "cells": [
  {
   "cell_type": "markdown",
   "metadata": {},
   "source": [
    "# Raport - Congressional voting\n",
    "WUM 2021 - Projekt 1  \n",
    "20.04.2021r.  \n",
    "Autorzy: \n",
    "* Yevhenii Vinichenko\n",
    "* Krzysztof Wolny"
   ]
  },
  {
   "cell_type": "markdown",
   "metadata": {},
   "source": [
    "## Opis problemu "
   ]
  },
  {
   "cell_type": "markdown",
   "metadata": {},
   "source": [
    "Naszym celem było stworzenie modelu predykcyjnego, który przewidywałby na podstawie głosów kongresmana z Izby Reprezentantów Stanów Zjednoczonych, czy jest on demokratem, czy republikanem. "
   ]
  },
  {
   "cell_type": "markdown",
   "metadata": {},
   "source": [
    "## Opis zbioru danych"
   ]
  },
  {
   "cell_type": "markdown",
   "metadata": {},
   "source": [
    "Otrzymaliśmy zbiór danych o głosach kongresmenów z Izby Reprezentantów Stanów Zjednoczonych. W danych były zapisane wyniki, czy dany kongresemen głosował za, przeciw, czy wstrzymał się od głosu w danej propozycji. Łącznie propozycji było 16. W dataframie litera 'y' oznaczała poparcie kongresmana dla tej propozycji, 'n' głos przeciwko, a '?' wstrzymanie się od głosu. W danych była również informacja, czy kongresman jest demokratem, czy republikanem. \n",
    "\n",
    "Dane, które otrzymaliśmy, tak jak wynika z opisu, były dyskretne. Po przeanalizowaniu danych udało nam się znaleźć kilka propozycji, które w wyraźny sposób odróżniały republikanów od demokratów. Jest to oczywiście bardzo dobra informacja w kontekście tworzenia modeli. (może jakiś wykres dodać)"
   ]
  },
  {
   "cell_type": "markdown",
   "metadata": {},
   "source": [
    " ![](./zdjęcia/wykres.png)"
   ]
  },
  {
   "cell_type": "markdown",
   "metadata": {},
   "source": [
    "## Preproccessing"
   ]
  },
  {
   "cell_type": "markdown",
   "metadata": {},
   "source": [
    "Z związku z tym, że nasze dane były dykretne nie potrzebowaliśmy robić dużej ilości preproccessingu. Naszym głównym celem było zamienienie oznaczeń literowych na liczbowe, aby ulatwić obliczenia. Postanowilismy zamienić dane w następujący sposób: \n",
    "* 'y' -> 1, \n",
    "* 'n' -> -1, \n",
    "* '?' -> 0, \n",
    "* 'democret' -> 1, \n",
    "* 'republican' -> 0."
   ]
  },
  {
   "cell_type": "markdown",
   "metadata": {},
   "source": [
    "#### Wcześniejsze błędy\n",
    "W kamieniu milowym numer 2 traktowaliśmy '?' jako NaN i próbowaliśmy uzupełniać te dane. Nie jest to jednak najlepsze myślenie, ponieważ wstrzymanie się od głosów również jest częscią polityki. Były nawet takie propozycje, w których większość polityków wstrzymywało się od głosu. Modele statystyczne, które stworzyliśmy pracują również z wiekszą skutecznością, gdy uznajemy '?' jako oddzielną zmienną. "
   ]
  },
  {
   "cell_type": "markdown",
   "metadata": {},
   "source": [
    "## Modele statystyczne"
   ]
  },
  {
   "cell_type": "markdown",
   "metadata": {},
   "source": [
    "Stworzyliśmy 4 modele statystycznych: \n",
    "* Random forest \n",
    "* XGBoost\n",
    "* Gradient boosting\n",
    "* Logistic regrsiion\n",
    "\n",
    "Aby znaleźć jak najlepsze parametry skorzystaliśmy z random search. \n",
    "\n",
    "Najlepsze wyniki otrzymał XGBoost, a zaraz za nim regresja logistyczna. Są to modele na poziomie accuracy ok. 0.984.\n",
    "\n",
    "Wyniki: (baseline jest to regresja logistyczna bez wykonania na niej random search)"
   ]
  },
  {
   "cell_type": "markdown",
   "metadata": {},
   "source": [
    " ![](./zdjęcia/tabela.png)"
   ]
  },
  {
   "cell_type": "markdown",
   "metadata": {},
   "source": [
    "Sprawdziliśmy również jak skuteczne będą modele, jesli usuniemy najbardziej skorelowana kolumnę z naszych danych. Okazuje się, że skuteczność modeli znaczaco spada, bo aż o ok. 0.05. "
   ]
  },
  {
   "cell_type": "markdown",
   "metadata": {},
   "source": [
    " ![](./zdjęcia/tabela_droped.png)"
   ]
  },
  {
   "cell_type": "markdown",
   "metadata": {},
   "source": [
    "## Podsumowanie"
   ]
  },
  {
   "cell_type": "markdown",
   "metadata": {},
   "source": [
    "Jesteśmy w stanie stworzyć model predykcyjny z ok.98%  dokłanością. Najlepiej jest użyc XGBoost lub regresji logistycznej. "
   ]
  }
 ],
 "metadata": {
  "kernelspec": {
   "display_name": "Python 3",
   "language": "python",
   "name": "python3"
  },
  "language_info": {
   "codemirror_mode": {
    "name": "ipython",
    "version": 3
   },
   "file_extension": ".py",
   "mimetype": "text/x-python",
   "name": "python",
   "nbconvert_exporter": "python",
   "pygments_lexer": "ipython3",
   "version": "3.7.6"
  }
 },
 "nbformat": 4,
 "nbformat_minor": 4
}
