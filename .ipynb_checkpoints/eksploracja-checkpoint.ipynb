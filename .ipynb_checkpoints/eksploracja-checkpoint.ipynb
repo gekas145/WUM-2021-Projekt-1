{
 "cells": [
  {
   "cell_type": "markdown",
   "metadata": {},
   "source": [
    "# Kamień milowy 1(Eksploracja danych)"
   ]
  },
  {
   "cell_type": "code",
   "execution_count": 1,
   "metadata": {},
   "outputs": [],
   "source": [
    "import pandas as pd\n",
    "import matplotlib.pyplot as plt\n",
    "import seaborn as sns\n",
    "import numpy as np"
   ]
  },
  {
   "cell_type": "code",
   "execution_count": 2,
   "metadata": {},
   "outputs": [
    {
     "data": {
      "text/html": [
       "<div>\n",
       "<style scoped>\n",
       "    .dataframe tbody tr th:only-of-type {\n",
       "        vertical-align: middle;\n",
       "    }\n",
       "\n",
       "    .dataframe tbody tr th {\n",
       "        vertical-align: top;\n",
       "    }\n",
       "\n",
       "    .dataframe thead th {\n",
       "        text-align: right;\n",
       "    }\n",
       "</style>\n",
       "<table border=\"1\" class=\"dataframe\">\n",
       "  <thead>\n",
       "    <tr style=\"text-align: right;\">\n",
       "      <th></th>\n",
       "      <th>handicapped_infants</th>\n",
       "      <th>water_project_cost_sharing</th>\n",
       "      <th>adoption_of_the_budget_resolution</th>\n",
       "      <th>physician_fee_freeze</th>\n",
       "      <th>el_salvador_aid</th>\n",
       "      <th>religious_groups_in_schools</th>\n",
       "      <th>anti_satellite_test_ban</th>\n",
       "      <th>aid_to_nicaraguan_contras</th>\n",
       "      <th>mx_missile</th>\n",
       "      <th>immigration</th>\n",
       "      <th>synfuels_corporation_cutback</th>\n",
       "      <th>education_spending</th>\n",
       "      <th>superfund_right_to_sue</th>\n",
       "      <th>crime</th>\n",
       "      <th>duty_free_exports</th>\n",
       "      <th>export_administration_act_south_africa</th>\n",
       "      <th>political_party</th>\n",
       "    </tr>\n",
       "  </thead>\n",
       "  <tbody>\n",
       "    <tr>\n",
       "      <th>0</th>\n",
       "      <td>n</td>\n",
       "      <td>y</td>\n",
       "      <td>n</td>\n",
       "      <td>y</td>\n",
       "      <td>y</td>\n",
       "      <td>y</td>\n",
       "      <td>n</td>\n",
       "      <td>n</td>\n",
       "      <td>n</td>\n",
       "      <td>y</td>\n",
       "      <td>?</td>\n",
       "      <td>y</td>\n",
       "      <td>y</td>\n",
       "      <td>y</td>\n",
       "      <td>n</td>\n",
       "      <td>y</td>\n",
       "      <td>republican</td>\n",
       "    </tr>\n",
       "    <tr>\n",
       "      <th>1</th>\n",
       "      <td>n</td>\n",
       "      <td>y</td>\n",
       "      <td>n</td>\n",
       "      <td>y</td>\n",
       "      <td>y</td>\n",
       "      <td>y</td>\n",
       "      <td>n</td>\n",
       "      <td>n</td>\n",
       "      <td>n</td>\n",
       "      <td>n</td>\n",
       "      <td>n</td>\n",
       "      <td>y</td>\n",
       "      <td>y</td>\n",
       "      <td>y</td>\n",
       "      <td>n</td>\n",
       "      <td>?</td>\n",
       "      <td>republican</td>\n",
       "    </tr>\n",
       "    <tr>\n",
       "      <th>2</th>\n",
       "      <td>?</td>\n",
       "      <td>y</td>\n",
       "      <td>y</td>\n",
       "      <td>?</td>\n",
       "      <td>y</td>\n",
       "      <td>y</td>\n",
       "      <td>n</td>\n",
       "      <td>n</td>\n",
       "      <td>n</td>\n",
       "      <td>n</td>\n",
       "      <td>y</td>\n",
       "      <td>n</td>\n",
       "      <td>y</td>\n",
       "      <td>y</td>\n",
       "      <td>n</td>\n",
       "      <td>n</td>\n",
       "      <td>democrat</td>\n",
       "    </tr>\n",
       "    <tr>\n",
       "      <th>3</th>\n",
       "      <td>n</td>\n",
       "      <td>y</td>\n",
       "      <td>y</td>\n",
       "      <td>n</td>\n",
       "      <td>?</td>\n",
       "      <td>y</td>\n",
       "      <td>n</td>\n",
       "      <td>n</td>\n",
       "      <td>n</td>\n",
       "      <td>n</td>\n",
       "      <td>y</td>\n",
       "      <td>n</td>\n",
       "      <td>y</td>\n",
       "      <td>n</td>\n",
       "      <td>n</td>\n",
       "      <td>y</td>\n",
       "      <td>democrat</td>\n",
       "    </tr>\n",
       "    <tr>\n",
       "      <th>4</th>\n",
       "      <td>y</td>\n",
       "      <td>y</td>\n",
       "      <td>y</td>\n",
       "      <td>n</td>\n",
       "      <td>y</td>\n",
       "      <td>y</td>\n",
       "      <td>n</td>\n",
       "      <td>n</td>\n",
       "      <td>n</td>\n",
       "      <td>n</td>\n",
       "      <td>y</td>\n",
       "      <td>?</td>\n",
       "      <td>y</td>\n",
       "      <td>y</td>\n",
       "      <td>y</td>\n",
       "      <td>y</td>\n",
       "      <td>democrat</td>\n",
       "    </tr>\n",
       "  </tbody>\n",
       "</table>\n",
       "</div>"
      ],
      "text/plain": [
       "  handicapped_infants water_project_cost_sharing  \\\n",
       "0                   n                          y   \n",
       "1                   n                          y   \n",
       "2                   ?                          y   \n",
       "3                   n                          y   \n",
       "4                   y                          y   \n",
       "\n",
       "  adoption_of_the_budget_resolution physician_fee_freeze el_salvador_aid  \\\n",
       "0                                 n                    y               y   \n",
       "1                                 n                    y               y   \n",
       "2                                 y                    ?               y   \n",
       "3                                 y                    n               ?   \n",
       "4                                 y                    n               y   \n",
       "\n",
       "  religious_groups_in_schools anti_satellite_test_ban  \\\n",
       "0                           y                       n   \n",
       "1                           y                       n   \n",
       "2                           y                       n   \n",
       "3                           y                       n   \n",
       "4                           y                       n   \n",
       "\n",
       "  aid_to_nicaraguan_contras mx_missile immigration  \\\n",
       "0                         n          n           y   \n",
       "1                         n          n           n   \n",
       "2                         n          n           n   \n",
       "3                         n          n           n   \n",
       "4                         n          n           n   \n",
       "\n",
       "  synfuels_corporation_cutback education_spending superfund_right_to_sue  \\\n",
       "0                            ?                  y                      y   \n",
       "1                            n                  y                      y   \n",
       "2                            y                  n                      y   \n",
       "3                            y                  n                      y   \n",
       "4                            y                  ?                      y   \n",
       "\n",
       "  crime duty_free_exports export_administration_act_south_africa  \\\n",
       "0     y                 n                                      y   \n",
       "1     y                 n                                      ?   \n",
       "2     y                 n                                      n   \n",
       "3     n                 n                                      y   \n",
       "4     y                 y                                      y   \n",
       "\n",
       "  political_party  \n",
       "0      republican  \n",
       "1      republican  \n",
       "2        democrat  \n",
       "3        democrat  \n",
       "4        democrat  "
      ]
     },
     "execution_count": 2,
     "metadata": {},
     "output_type": "execute_result"
    }
   ],
   "source": [
    "congressional_voting_df = pd.read_csv(\"congressional_voting_dataset.csv\")\n",
    "congressional_voting_df.head()"
   ]
  },
  {
   "cell_type": "code",
   "execution_count": 6,
   "metadata": {},
   "outputs": [
    {
     "name": "stdout",
     "output_type": "stream",
     "text": [
      "<class 'pandas.core.frame.DataFrame'>\n",
      "RangeIndex: 435 entries, 0 to 434\n",
      "Data columns (total 17 columns):\n",
      " #   Column                                  Non-Null Count  Dtype \n",
      "---  ------                                  --------------  ----- \n",
      " 0   handicapped_infants                     435 non-null    object\n",
      " 1   water_project_cost_sharing              435 non-null    object\n",
      " 2   adoption_of_the_budget_resolution       435 non-null    object\n",
      " 3   physician_fee_freeze                    435 non-null    object\n",
      " 4   el_salvador_aid                         435 non-null    object\n",
      " 5   religious_groups_in_schools             435 non-null    object\n",
      " 6   anti_satellite_test_ban                 435 non-null    object\n",
      " 7   aid_to_nicaraguan_contras               435 non-null    object\n",
      " 8   mx_missile                              435 non-null    object\n",
      " 9   immigration                             435 non-null    object\n",
      " 10  synfuels_corporation_cutback            435 non-null    object\n",
      " 11  education_spending                      435 non-null    object\n",
      " 12  superfund_right_to_sue                  435 non-null    object\n",
      " 13  crime                                   435 non-null    object\n",
      " 14  duty_free_exports                       435 non-null    object\n",
      " 15  export_administration_act_south_africa  435 non-null    object\n",
      " 16  political_party                         435 non-null    object\n",
      "dtypes: object(17)\n",
      "memory usage: 57.9+ KB\n"
     ]
    }
   ],
   "source": [
    "congressional_voting_df.info() # wszędzie są zmienne kategoryczne\n",
    "# braki danych też są(? == null, co wynika z opisu danych)"
   ]
  },
  {
   "cell_type": "code",
   "execution_count": 12,
   "metadata": {},
   "outputs": [
    {
     "name": "stdout",
     "output_type": "stream",
     "text": [
      "<class 'pandas.core.frame.DataFrame'>\n",
      "RangeIndex: 435 entries, 0 to 434\n",
      "Data columns (total 17 columns):\n",
      " #   Column                                  Non-Null Count  Dtype  \n",
      "---  ------                                  --------------  -----  \n",
      " 0   handicapped_infants                     423 non-null    float64\n",
      " 1   water_project_cost_sharing              387 non-null    float64\n",
      " 2   adoption_of_the_budget_resolution       424 non-null    float64\n",
      " 3   physician_fee_freeze                    424 non-null    float64\n",
      " 4   el_salvador_aid                         420 non-null    float64\n",
      " 5   religious_groups_in_schools             424 non-null    float64\n",
      " 6   anti_satellite_test_ban                 421 non-null    float64\n",
      " 7   aid_to_nicaraguan_contras               420 non-null    float64\n",
      " 8   mx_missile                              413 non-null    float64\n",
      " 9   immigration                             428 non-null    float64\n",
      " 10  synfuels_corporation_cutback            414 non-null    float64\n",
      " 11  education_spending                      404 non-null    float64\n",
      " 12  superfund_right_to_sue                  410 non-null    float64\n",
      " 13  crime                                   418 non-null    float64\n",
      " 14  duty_free_exports                       407 non-null    float64\n",
      " 15  export_administration_act_south_africa  331 non-null    float64\n",
      " 16  political_party                         435 non-null    object \n",
      "dtypes: float64(16), object(1)\n",
      "memory usage: 57.9+ KB\n"
     ]
    }
   ],
   "source": [
    "map = {\"y\": 1, \"n\" : 0, \"?\": np.nan}\n",
    "\n",
    "df = congressional_voting_df.copy()\n",
    "\n",
    "columns = df.drop(\"political_party\", axis=1).columns.to_list()\n",
    "for column in columns:\n",
    "    df[column] = df[column].map(map)\n",
    "    \n",
    "df.info()"
   ]
  },
  {
   "cell_type": "code",
   "execution_count": 19,
   "metadata": {},
   "outputs": [
    {
     "data": {
      "text/plain": [
       "(232, 17)"
      ]
     },
     "execution_count": 19,
     "metadata": {},
     "output_type": "execute_result"
    }
   ],
   "source": [
    "df.dropna().shape # nie da się po prostu wyrzucić wszystkie obserwacje, gdzie czegoś brakuje\n",
    "# bo tracimy przez to dużo danych\n",
    "# więc warto próbować je uzupełniać"
   ]
  },
  {
   "cell_type": "code",
   "execution_count": 6,
   "metadata": {},
   "outputs": [
    {
     "data": {
      "image/png": "[encoded data removed]",
      "text/plain": [
       "<Figure size 432x288 with 1 Axes>"
      ]
     },
     "metadata": {
      "needs_background": "light"
     },
     "output_type": "display_data"
    }
   ],
   "source": [
    "political_parties = congressional_voting_df.groupby(\"political_party\").size().reset_index(name='members')\n",
    "plt.bar(political_parties[\"political_party\"], height=political_parties[\"members\"])\n",
    "plt.title(\"Cardinality of political parties\")\n",
    "plt.show()\n",
    "# dane są zrównoważone"
   ]
  },
  {
   "cell_type": "code",
   "execution_count": 154,
   "metadata": {},
   "outputs": [
    {
     "data": {
      "image/png": "[encoded data removed]",
      "text/plain": [
       "<Figure size 1080x1080 with 16 Axes>"
      ]
     },
     "metadata": {
      "needs_background": "light"
     },
     "output_type": "display_data"
    }
   ],
   "source": [
    "column_names = congressional_voting_df.columns.to_list()\n",
    "columns = 4\n",
    "rows = 4\n",
    "labels = [\"democrat\", \"republican\"]\n",
    "fig, ax_array = plt.subplots(rows, columns,squeeze=False, figsize=(15,15))\n",
    "x = np.arange(2)\n",
    "width = 0.35\n",
    "\n",
    "for i,ax_row in enumerate(ax_array):\n",
    "    for j,axes in enumerate(ax_row):\n",
    "#         print(4*i+j)\n",
    "        \n",
    "        column = column_names[4*i+j]\n",
    "        df = congressional_voting_df.groupby([\"political_party\", column]).size().reset_index(name=\"num\")\n",
    "        df = df.pivot(columns=column, index=\"political_party\", values=\"num\")\n",
    "\n",
    "        axes.bar(x - width/3, df[\"y\"], width/3, label = \"yes\")\n",
    "        axes.bar(x, df[\"n\"], width/3, label = \"no\")\n",
    "        axes.bar(x + width/3, df[\"?\"], width/3, label = \"?\")\n",
    "        \n",
    "        axes.set_xticks(x)\n",
    "        axes.set_xticklabels(labels)\n",
    "        axes.set_title(column)\n",
    "        \n",
    "        if i == 0 and j == 3:\n",
    "            axes.legend(bbox_to_anchor=(1.05, 1.0), loc='upper left')\n",
    "\n",
    "\n",
    "plt.show()\n",
    "\n",
    "# Odrazu widać które cechy nie dają dużo informacji(np. water_project_cost_sharing, immigration)\n",
    "# A które wyraźnie rodzielają partie(physician_fee_freeze, adoption_of_the_budget_resolution, el_salvador_aid)\n",
    "# Są też \"częściowo\" informatywne(np. jak przy synflues_corporation_cutback ktoś głosowałby na \"tak\", \n",
    "# to byłby to pewnie demokrat, zaś w przypadku głosowania na \"nie\" takiej pewności nie mamy)\n",
    "# Ewentualnie można też usunąć zmienną export_administration_act_south_africa, bo nie wygląda na zbyt informatywną,\n",
    "# a poza tym zawiera niezwykle dużo braków danych przy demokratach"
   ]
  },
  {
   "cell_type": "code",
   "execution_count": null,
   "metadata": {},
   "outputs": [],
   "source": []
  }
 ],
 "metadata": {
  "kernelspec": {
   "display_name": "Python 3",
   "language": "python",
   "name": "python3"
  },
  "language_info": {
   "codemirror_mode": {
    "name": "ipython",
    "version": 3
   },
   "file_extension": ".py",
   "mimetype": "text/x-python",
   "name": "python",
   "nbconvert_exporter": "python",
   "pygments_lexer": "ipython3",
   "version": "3.7.6"
  }
 },
 "nbformat": 4,
 "nbformat_minor": 4
}
